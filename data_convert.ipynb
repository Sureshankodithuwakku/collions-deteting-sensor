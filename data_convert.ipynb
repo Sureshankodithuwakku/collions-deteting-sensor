{
 "cells": [
  {
   "cell_type": "code",
   "execution_count": 4,
   "id": "3bcccdeb",
   "metadata": {},
   "outputs": [
    {
     "name": "stdout",
     "output_type": "stream",
     "text": [
      "Model converted and saved to model.h\n"
     ]
    }
   ],
   "source": [
    "import joblib\n",
    "from micromlgen import port\n",
    "\n",
    "model = joblib.load(\"D:/Data Acquision/BIKE fall/jupyter/orientation_model.joblib\")\n",
    "\n",
    "# Convert the model to a C header file\n",
    "# This will generate a header with a function to predict the class\n",
    "c_code = port(model, class_name=\"RandomForestClassifier\")\n",
    "\n",
    " # saving\n",
    "with open(\"model.h\", \"w\") as file:\n",
    "    file.write(c_code)\n",
    "\n",
    "print(\"Model converted and saved to model.h\")"
   ]
  },
  {
   "cell_type": "code",
   "execution_count": 3,
   "id": "f47dbbc8",
   "metadata": {},
   "outputs": [
    {
     "name": "stdout",
     "output_type": "stream",
     "text": [
      "C:\\Users\\Dinid\\AppData\\Local\\Microsoft\\WindowsApps\\PythonSoftwareFoundation.Python.3.12_qbz5n2kfra8p0\\python.exe\n",
      "Defaulting to user installation because normal site-packages is not writeable\n",
      "Collecting micromlgen\n",
      "  Using cached micromlgen-1.1.28.tar.gz (12 kB)\n",
      "  Preparing metadata (setup.py): started\n",
      "  Preparing metadata (setup.py): finished with status 'done'\n",
      "Collecting jinja2 (from micromlgen)\n",
      "  Using cached jinja2-3.1.6-py3-none-any.whl.metadata (2.9 kB)\n",
      "Requirement already satisfied: MarkupSafe>=2.0 in c:\\users\\dinid\\appdata\\local\\packages\\pythonsoftwarefoundation.python.3.12_qbz5n2kfra8p0\\localcache\\local-packages\\python312\\site-packages (from jinja2->micromlgen) (3.0.2)\n",
      "Using cached jinja2-3.1.6-py3-none-any.whl (134 kB)\n",
      "Building wheels for collected packages: micromlgen\n",
      "  Building wheel for micromlgen (setup.py): started\n",
      "  Building wheel for micromlgen (setup.py): finished with status 'done'\n",
      "  Created wheel for micromlgen: filename=micromlgen-1.1.28-py3-none-any.whl size=32215 sha256=d8c5fbe7ca6600dabedb79edfab49de6fe9f4961b0bbfc539331ea04c3aec3a8\n",
      "  Stored in directory: c:\\users\\dinid\\appdata\\local\\pip\\cache\\wheels\\16\\02\\8a\\3a8b533174e4f7691a8fd72dab4493fb6819b79f8fcc1d18a6\n",
      "Successfully built micromlgen\n",
      "Installing collected packages: jinja2, micromlgen\n",
      "Successfully installed jinja2-3.1.6 micromlgen-1.1.28\n"
     ]
    },
    {
     "name": "stderr",
     "output_type": "stream",
     "text": [
      "\n",
      "[notice] A new release of pip is available: 25.0.1 -> 25.2\n",
      "[notice] To update, run: C:\\Users\\Dinid\\AppData\\Local\\Microsoft\\WindowsApps\\PythonSoftwareFoundation.Python.3.12_qbz5n2kfra8p0\\python.exe -m pip install --upgrade pip\n"
     ]
    }
   ],
   "source": [
    "import sys \n",
    "print(sys.executable) \n",
    "!{sys.executable} -m pip install micromlgen\n",
    "\n"
   ]
  },
  {
   "cell_type": "code",
   "execution_count": null,
   "id": "38a5150a",
   "metadata": {},
   "outputs": [],
   "source": []
  }
 ],
 "metadata": {
  "kernelspec": {
   "display_name": "Python 3",
   "language": "python",
   "name": "python3"
  },
  "language_info": {
   "codemirror_mode": {
    "name": "ipython",
    "version": 3
   },
   "file_extension": ".py",
   "mimetype": "text/x-python",
   "name": "python",
   "nbconvert_exporter": "python",
   "pygments_lexer": "ipython3",
   "version": "3.12.10"
  }
 },
 "nbformat": 4,
 "nbformat_minor": 5
}
